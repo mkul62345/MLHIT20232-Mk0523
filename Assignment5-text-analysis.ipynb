{
 "cells": [
  {
   "attachments": {},
   "cell_type": "markdown",
   "metadata": {},
   "source": [
    "# Assignment 5 - Text Analysis\n",
    "An explanation this assignment could be found in the .pdf explanation document"
   ]
  },
  {
   "attachments": {},
   "cell_type": "markdown",
   "metadata": {},
   "source": [
    "\n",
    "## Materials to review for this assignment\n",
    "<h4>From Moodle:</h4> \n",
    "<h5><u>Review the notebooks regarding the following python topics</u>:</h5>\n",
    "<div class=\"alert alert-info\">\n",
    "&#x2714; <b>Working with strings</b> (tutorial notebook)<br/>\n",
    "&#x2714; <b>Text Analysis</b> (tutorial notebook)<br/>\n",
    "&#x2714; <b>Hebrew text analysis tools (tokenizer, wordnet)</b> (moodle example)<br/>\n",
    "&#x2714; <b>(brief review) All previous notebooks</b><br/>\n",
    "</div> \n",
    "<h5><u>Review the presentations regarding the following topics</u>:</h5>\n",
    "<div class=\"alert alert-info\">\n",
    "&#x2714; <b>Text Analysis</b> (lecture presentation)<br/>\n",
    "&#x2714; <b>(brief review) All other presentations</b><br/>\n",
    "</div>"
   ]
  },
  {
   "attachments": {},
   "cell_type": "markdown",
   "metadata": {},
   "source": [
    "## Preceding Step - import modules (packages)\n",
    "This step is necessary in order to use external modules (packages). <br/>"
   ]
  },
  {
   "cell_type": "code",
   "execution_count": 480,
   "metadata": {},
   "outputs": [],
   "source": [
    "# --------------------------------------\n",
    "import pandas as pd\n",
    "import numpy as np\n",
    "# --------------------------------------\n",
    "\n",
    "\n",
    "# --------------------------------------\n",
    "# ------------- visualizations:\n",
    "import seaborn as sns\n",
    "import matplotlib.pyplot as plt\n",
    "from matplotlib.colors import ListedColormap\n",
    "# --------------------------------------\n",
    "\n",
    "import wn\n",
    "import hebrew_tokenizer as ht\n",
    "\n",
    "# ---------------------------------------\n",
    "import sklearn\n",
    "from sklearn import preprocessing, metrics, pipeline, model_selection, feature_extraction \n",
    "from sklearn import naive_bayes, linear_model, svm, neural_network, neighbors, tree\n",
    "from sklearn import decomposition, cluster\n",
    "from sklearn.decomposition import TruncatedSVD #For Dimensionality reduction, we have close ~35k unique words in the test set which means 35k features.\n",
    "\n",
    "from sklearn.model_selection import train_test_split, cross_val_score, GridSearchCV \n",
    "from sklearn.pipeline import Pipeline\n",
    "from sklearn.metrics import make_scorer #imported for scoring\n",
    "from sklearn.metrics import accuracy_score, confusion_matrix\n",
    "from sklearn.metrics import precision_score, recall_score, f1_score\n",
    "from sklearn.metrics import mean_squared_error, r2_score, silhouette_score\n",
    "from sklearn.preprocessing import MinMaxScaler, StandardScaler, LabelEncoder\n",
    "\n",
    "from sklearn.svm import LinearSVC\n",
    "from sklearn.neural_network import MLPClassifier\n",
    "from sklearn.linear_model import Perceptron, SGDClassifier, RidgeClassifier, LogisticRegression\n",
    "from sklearn.decomposition import PCA\n",
    "from sklearn.cluster import KMeans\n",
    "from sklearn.naive_bayes import MultinomialNB, GaussianNB, ComplementNB\n",
    "from sklearn.neighbors import KNeighborsClassifier\n",
    "from sklearn.tree import DecisionTreeClassifier\n",
    "from sklearn.ensemble import RandomForestClassifier\n",
    "# ---------------------------------------\n",
    "\n",
    "\n",
    "# ----------------- output and visualizations: \n",
    "import warnings\n",
    "from sklearn.exceptions import ConvergenceWarning\n",
    "warnings.simplefilter(\"ignore\")\n",
    "warnings.simplefilter(action='ignore', category=FutureWarning)\n",
    "warnings.simplefilter(\"ignore\", category=ConvergenceWarning)\n",
    "# show several prints in one cell. This will allow us to condence every trick in one cell.\n",
    "from IPython.core.interactiveshell import InteractiveShell\n",
    "InteractiveShell.ast_node_interactivity = \"all\"\n",
    "%matplotlib inline\n",
    "pd.pandas.set_option('display.max_columns', None)\n",
    "pd.set_option('display.float_format', lambda x: '%.3f' % x)\n",
    "# ---------------------------------------"
   ]
  },
  {
   "attachments": {},
   "cell_type": "markdown",
   "metadata": {},
   "source": [
    "### Text analysis and String manipulation imports:"
   ]
  },
  {
   "cell_type": "code",
   "execution_count": 481,
   "metadata": {},
   "outputs": [],
   "source": [
    "# --------------------------------------\n",
    "# --------- Text analysis and Hebrew text analysis imports:\n",
    "# vectorizers:\n",
    "from sklearn.feature_extraction import text\n",
    "from sklearn.feature_extraction.text import CountVectorizer, TfidfVectorizer\n",
    "\n",
    "# regular expressions:\n",
    "import re\n",
    "# --------------------------------------"
   ]
  },
  {
   "attachments": {},
   "cell_type": "markdown",
   "metadata": {},
   "source": [
    "### (optional) Hebrew text analysis - WordNet (for Hebrew)\n",
    "Note: the WordNet is not a must"
   ]
  },
  {
   "attachments": {},
   "cell_type": "markdown",
   "metadata": {},
   "source": [
    "#### (optional) Only if you didn't install Wordnet (for Hebrew) use:"
   ]
  },
  {
   "cell_type": "code",
   "execution_count": 482,
   "metadata": {},
   "outputs": [],
   "source": [
    "# word net installation:\n",
    "\n",
    "# unmark if you want to use and need to install\n",
    "# !pip install wn\n",
    "# !python -m wn download omw-he:1.4"
   ]
  },
  {
   "cell_type": "code",
   "execution_count": 483,
   "metadata": {},
   "outputs": [],
   "source": [
    "# word net import:\n",
    "\n",
    "# unmark if you want to use:\n",
    "# import wn"
   ]
  },
  {
   "attachments": {},
   "cell_type": "markdown",
   "metadata": {},
   "source": [
    "### (optional) Hebrew text analysis - hebrew_tokenizer (Tokenizer for Hebrew)\n",
    "Note: the hebrew_tokenizer is not a must"
   ]
  },
  {
   "attachments": {},
   "cell_type": "markdown",
   "metadata": {},
   "source": [
    "#### (optional) Only if you didn't install hebrew_tokenizer use:"
   ]
  },
  {
   "cell_type": "code",
   "execution_count": 484,
   "metadata": {},
   "outputs": [],
   "source": [
    "# Hebrew tokenizer installation:\n",
    "\n",
    "# unmark if you want to use and need to install:\n",
    "# !pip install hebrew_tokenizer"
   ]
  },
  {
   "cell_type": "code",
   "execution_count": 485,
   "metadata": {},
   "outputs": [],
   "source": [
    "# Hebrew tokenizer import:\n",
    "\n",
    "# unmark if you want to use:\n",
    "# import hebrew_tokenizer as ht"
   ]
  },
  {
   "attachments": {},
   "cell_type": "markdown",
   "metadata": {},
   "source": [
    "### Reading input files\n",
    "Reading input files for train annotated corpus (raw text data) corpus and for the test corpus"
   ]
  },
  {
   "cell_type": "code",
   "execution_count": 486,
   "metadata": {},
   "outputs": [],
   "source": [
    "train_filename = 'annotated_corpus_for_train.csv'\n",
    "test_filename  = 'corpus_for_test.csv'\n",
    "df_train = pd.read_csv(train_filename, index_col=None, encoding='utf-8')\n",
    "df_test  = pd.read_csv(test_filename, index_col=None, encoding='utf-8')"
   ]
  },
  {
   "cell_type": "code",
   "execution_count": 487,
   "metadata": {},
   "outputs": [
    {
     "data": {
      "text/html": [
       "<div>\n",
       "<style scoped>\n",
       "    .dataframe tbody tr th:only-of-type {\n",
       "        vertical-align: middle;\n",
       "    }\n",
       "\n",
       "    .dataframe tbody tr th {\n",
       "        vertical-align: top;\n",
       "    }\n",
       "\n",
       "    .dataframe thead th {\n",
       "        text-align: right;\n",
       "    }\n",
       "</style>\n",
       "<table border=\"1\" class=\"dataframe\">\n",
       "  <thead>\n",
       "    <tr style=\"text-align: right;\">\n",
       "      <th></th>\n",
       "      <th>story</th>\n",
       "      <th>gender</th>\n",
       "    </tr>\n",
       "  </thead>\n",
       "  <tbody>\n",
       "    <tr>\n",
       "      <th>0</th>\n",
       "      <td>כשחבר הזמין אותי לחול, לא באמת חשבתי שזה יקרה,...</td>\n",
       "      <td>m</td>\n",
       "    </tr>\n",
       "    <tr>\n",
       "      <th>1</th>\n",
       "      <td>לפני שהתגייסתי לצבא עשיתי כל מני מיונים ליחידו...</td>\n",
       "      <td>m</td>\n",
       "    </tr>\n",
       "    <tr>\n",
       "      <th>2</th>\n",
       "      <td>מאז שהתחילו הלימודים חלומו של כל סטודנט זה הפנ...</td>\n",
       "      <td>f</td>\n",
       "    </tr>\n",
       "    <tr>\n",
       "      <th>3</th>\n",
       "      <td>כשהייתי ילד, מטוסים היה הדבר שהכי ריתק אותי. ב...</td>\n",
       "      <td>m</td>\n",
       "    </tr>\n",
       "    <tr>\n",
       "      <th>4</th>\n",
       "      <td>‏הייתי מדריכה בכפר נוער ומתאם הכפר היינו צריכי...</td>\n",
       "      <td>f</td>\n",
       "    </tr>\n",
       "    <tr>\n",
       "      <th>5</th>\n",
       "      <td>לפני כ3 חודשים טסתי לרומא למשך שבוע. טסתי במטו...</td>\n",
       "      <td>f</td>\n",
       "    </tr>\n",
       "    <tr>\n",
       "      <th>6</th>\n",
       "      <td>אני כבר שנתיים נשוי והשנה אני ואישתי סוף סוף י...</td>\n",
       "      <td>m</td>\n",
       "    </tr>\n",
       "    <tr>\n",
       "      <th>7</th>\n",
       "      <td>השנה התחלנו שיפוץ בדירה שלנו בתל אביב. הדירה ה...</td>\n",
       "      <td>f</td>\n",
       "    </tr>\n",
       "  </tbody>\n",
       "</table>\n",
       "</div>"
      ],
      "text/plain": [
       "                                               story gender\n",
       "0  כשחבר הזמין אותי לחול, לא באמת חשבתי שזה יקרה,...      m\n",
       "1  לפני שהתגייסתי לצבא עשיתי כל מני מיונים ליחידו...      m\n",
       "2  מאז שהתחילו הלימודים חלומו של כל סטודנט זה הפנ...      f\n",
       "3  כשהייתי ילד, מטוסים היה הדבר שהכי ריתק אותי. ב...      m\n",
       "4  ‏הייתי מדריכה בכפר נוער ומתאם הכפר היינו צריכי...      f\n",
       "5  לפני כ3 חודשים טסתי לרומא למשך שבוע. טסתי במטו...      f\n",
       "6  אני כבר שנתיים נשוי והשנה אני ואישתי סוף סוף י...      m\n",
       "7  השנה התחלנו שיפוץ בדירה שלנו בתל אביב. הדירה ה...      f"
      ]
     },
     "execution_count": 487,
     "metadata": {},
     "output_type": "execute_result"
    },
    {
     "data": {
      "text/plain": [
       "(753, 2)"
      ]
     },
     "execution_count": 487,
     "metadata": {},
     "output_type": "execute_result"
    }
   ],
   "source": [
    "df_train.head(8)\n",
    "df_train.shape"
   ]
  },
  {
   "cell_type": "code",
   "execution_count": 488,
   "metadata": {},
   "outputs": [
    {
     "data": {
      "text/html": [
       "<div>\n",
       "<style scoped>\n",
       "    .dataframe tbody tr th:only-of-type {\n",
       "        vertical-align: middle;\n",
       "    }\n",
       "\n",
       "    .dataframe tbody tr th {\n",
       "        vertical-align: top;\n",
       "    }\n",
       "\n",
       "    .dataframe thead th {\n",
       "        text-align: right;\n",
       "    }\n",
       "</style>\n",
       "<table border=\"1\" class=\"dataframe\">\n",
       "  <thead>\n",
       "    <tr style=\"text-align: right;\">\n",
       "      <th></th>\n",
       "      <th>test_example_id</th>\n",
       "      <th>story</th>\n",
       "    </tr>\n",
       "  </thead>\n",
       "  <tbody>\n",
       "    <tr>\n",
       "      <th>0</th>\n",
       "      <td>0</td>\n",
       "      <td>כל קיץ אני והמשפחה נוסעים לארצות הברית לוס אנג...</td>\n",
       "    </tr>\n",
       "    <tr>\n",
       "      <th>1</th>\n",
       "      <td>1</td>\n",
       "      <td>הגעתי לשירות המדינה אחרי שנתיים כפעיל בתנועת \"...</td>\n",
       "    </tr>\n",
       "    <tr>\n",
       "      <th>2</th>\n",
       "      <td>2</td>\n",
       "      <td>אחת האהבות הגדולות שלי אלו הכלבים שלי ושל אישת...</td>\n",
       "    </tr>\n",
       "  </tbody>\n",
       "</table>\n",
       "</div>"
      ],
      "text/plain": [
       "   test_example_id                                              story\n",
       "0                0  כל קיץ אני והמשפחה נוסעים לארצות הברית לוס אנג...\n",
       "1                1  הגעתי לשירות המדינה אחרי שנתיים כפעיל בתנועת \"...\n",
       "2                2  אחת האהבות הגדולות שלי אלו הכלבים שלי ושל אישת..."
      ]
     },
     "execution_count": 488,
     "metadata": {},
     "output_type": "execute_result"
    },
    {
     "data": {
      "text/plain": [
       "(323, 2)"
      ]
     },
     "execution_count": 488,
     "metadata": {},
     "output_type": "execute_result"
    }
   ],
   "source": [
    "df_test.head(3)\n",
    "df_test.shape"
   ]
  },
  {
   "attachments": {},
   "cell_type": "markdown",
   "metadata": {},
   "source": [
    "### Your implementation:\n",
    "Write your code solution in the following code-cells"
   ]
  },
  {
   "cell_type": "code",
   "execution_count": 489,
   "metadata": {},
   "outputs": [
    {
     "name": "stdout",
     "output_type": "stream",
     "text": [
      "<class 'pandas.core.frame.DataFrame'>\n",
      "RangeIndex: 753 entries, 0 to 752\n",
      "Data columns (total 2 columns):\n",
      " #   Column  Non-Null Count  Dtype \n",
      "---  ------  --------------  ----- \n",
      " 0   story   753 non-null    object\n",
      " 1   gender  753 non-null    object\n",
      "dtypes: object(2)\n",
      "memory usage: 11.9+ KB\n"
     ]
    },
    {
     "data": {
      "text/html": [
       "<div>\n",
       "<style scoped>\n",
       "    .dataframe tbody tr th:only-of-type {\n",
       "        vertical-align: middle;\n",
       "    }\n",
       "\n",
       "    .dataframe tbody tr th {\n",
       "        vertical-align: top;\n",
       "    }\n",
       "\n",
       "    .dataframe thead th {\n",
       "        text-align: right;\n",
       "    }\n",
       "</style>\n",
       "<table border=\"1\" class=\"dataframe\">\n",
       "  <thead>\n",
       "    <tr style=\"text-align: right;\">\n",
       "      <th></th>\n",
       "      <th>story</th>\n",
       "      <th>gender</th>\n",
       "    </tr>\n",
       "  </thead>\n",
       "  <tbody>\n",
       "    <tr>\n",
       "      <th>count</th>\n",
       "      <td>753</td>\n",
       "      <td>753</td>\n",
       "    </tr>\n",
       "    <tr>\n",
       "      <th>unique</th>\n",
       "      <td>749</td>\n",
       "      <td>2</td>\n",
       "    </tr>\n",
       "    <tr>\n",
       "      <th>top</th>\n",
       "      <td>בשנה האחרונה נדבקתי וחליתי בנגיף הקורונה. עד ה...</td>\n",
       "      <td>m</td>\n",
       "    </tr>\n",
       "    <tr>\n",
       "      <th>freq</th>\n",
       "      <td>2</td>\n",
       "      <td>575</td>\n",
       "    </tr>\n",
       "  </tbody>\n",
       "</table>\n",
       "</div>"
      ],
      "text/plain": [
       "                                                    story gender\n",
       "count                                                 753    753\n",
       "unique                                                749      2\n",
       "top     בשנה האחרונה נדבקתי וחליתי בנגיף הקורונה. עד ה...      m\n",
       "freq                                                    2    575"
      ]
     },
     "execution_count": 489,
     "metadata": {},
     "output_type": "execute_result"
    }
   ],
   "source": [
    "df_train.info()\n",
    "df_train.describe()"
   ]
  },
  {
   "attachments": {},
   "cell_type": "markdown",
   "metadata": {},
   "source": [
    "Duplicates detected, no nulls"
   ]
  },
  {
   "cell_type": "code",
   "execution_count": 490,
   "metadata": {},
   "outputs": [
    {
     "data": {
      "text/html": [
       "<div>\n",
       "<style scoped>\n",
       "    .dataframe tbody tr th:only-of-type {\n",
       "        vertical-align: middle;\n",
       "    }\n",
       "\n",
       "    .dataframe tbody tr th {\n",
       "        vertical-align: top;\n",
       "    }\n",
       "\n",
       "    .dataframe thead th {\n",
       "        text-align: right;\n",
       "    }\n",
       "</style>\n",
       "<table border=\"1\" class=\"dataframe\">\n",
       "  <thead>\n",
       "    <tr style=\"text-align: right;\">\n",
       "      <th></th>\n",
       "      <th>story</th>\n",
       "      <th>gender</th>\n",
       "    </tr>\n",
       "  </thead>\n",
       "  <tbody>\n",
       "    <tr>\n",
       "      <th>count</th>\n",
       "      <td>750</td>\n",
       "      <td>750</td>\n",
       "    </tr>\n",
       "    <tr>\n",
       "      <th>unique</th>\n",
       "      <td>749</td>\n",
       "      <td>2</td>\n",
       "    </tr>\n",
       "    <tr>\n",
       "      <th>top</th>\n",
       "      <td>כשהתחילה הקורונה הלימודים עברו להיות רק בזום כ...</td>\n",
       "      <td>m</td>\n",
       "    </tr>\n",
       "    <tr>\n",
       "      <th>freq</th>\n",
       "      <td>2</td>\n",
       "      <td>573</td>\n",
       "    </tr>\n",
       "  </tbody>\n",
       "</table>\n",
       "</div>"
      ],
      "text/plain": [
       "                                                    story gender\n",
       "count                                                 750    750\n",
       "unique                                                749      2\n",
       "top     כשהתחילה הקורונה הלימודים עברו להיות רק בזום כ...      m\n",
       "freq                                                    2    573"
      ]
     },
     "execution_count": 490,
     "metadata": {},
     "output_type": "execute_result"
    }
   ],
   "source": [
    "df_train_clean = df_train.drop_duplicates()\n",
    "df_train_clean.describe()"
   ]
  },
  {
   "cell_type": "code",
   "execution_count": 491,
   "metadata": {},
   "outputs": [
    {
     "data": {
      "text/plain": [
       "Text(0.5, 1.0, 'Authors split by gender')"
      ]
     },
     "execution_count": 491,
     "metadata": {},
     "output_type": "execute_result"
    },
    {
     "data": {
      "text/plain": [
       "[Text(0, 0, 'Male'), Text(1, 0, 'Female')]"
      ]
     },
     "execution_count": 491,
     "metadata": {},
     "output_type": "execute_result"
    },
    {
     "data": {
      "image/png": "[encoded data removed]",
      "text/plain": [
       "<Figure size 400x400 with 1 Axes>"
      ]
     },
     "metadata": {},
     "output_type": "display_data"
    }
   ],
   "source": [
    "fig, ax = plt.subplots(figsize=(4,4))\n",
    "fg = sns.histplot(df_train['gender'], ax=ax)\n",
    "fg.set_title(\"Authors split by gender\")\n",
    "fg.set_xticklabels(['Male','Female'])\n",
    "plt.show()"
   ]
  },
  {
   "attachments": {},
   "cell_type": "markdown",
   "metadata": {},
   "source": [
    "Splitting the train set to X and y but different names."
   ]
  },
  {
   "cell_type": "code",
   "execution_count": 492,
   "metadata": {},
   "outputs": [],
   "source": [
    "story_list = df_train_clean[\"story\"].values.tolist()\n",
    "gender_chars = df_train_clean[\"gender\"].values.tolist()\n",
    "\n",
    "#List of stories to classify as extracted from the test set\n",
    "story_test_list =  df_test[\"story\"].values.tolist()"
   ]
  },
  {
   "cell_type": "code",
   "execution_count": 493,
   "metadata": {},
   "outputs": [],
   "source": [
    "def tokenizator(input_text):#Tokenizer function using the hebrew_tokenizer we imported prior\n",
    "    lst = []\n",
    "    tokens = ht.tokenize(input_text) #Tokenizing using the hebrewtokenizer, each token is a single word separated by spaces.\n",
    "    dont_keep = ['PUNCTUATION', 'ENGLISH'] #Opting out of keeping all these because their value in our application comes from deeper token analysis which we do not perform at this stage.\n",
    "    for grp, token, token_num, (start_index, end_index) in tokens:\n",
    "        if not grp in dont_keep:   \n",
    "            lst.append((grp, token)) #Extracting the wanted tokens into an output list\n",
    "\n",
    "    outlst = []\n",
    "    toknum = len(lst)\n",
    "    i=0\n",
    "    while i < toknum-1:\n",
    "        if lst[i][0] in ['DATE','HOUR']: #If the current token is date/time data we throw the previous word out \"בשעה: X\" etc\n",
    "            outlst.pop()\n",
    "            i+=1\n",
    "        if len(lst[i][1]) < 3: #We throw words with under 3 letters out to get rid of connectors, connectors would be more useful if we'd go farther down the n-gram range but in out use case theyre mostly noise\n",
    "            i+=1\n",
    "        else:\n",
    "            outlst.append(lst[i][1])\n",
    "            i+=1\n",
    "        \n",
    "    return outlst"
   ]
  },
  {
   "cell_type": "code",
   "execution_count": 494,
   "metadata": {},
   "outputs": [],
   "source": [
    "def plot_coefficients(classifier, feature_names, top_features=20): #Plots the coefficients of the most impactful \"top_features\" features\n",
    "\n",
    "    #Getting coefficients from classifier in 1d\n",
    "    class_coef = classifier.coef_[0]\n",
    "\n",
    "    #RtL text\n",
    "    for i in range(len(feature_names)):\n",
    "        feature_names[i] = feature_names[i][::-1]\n",
    "\n",
    "    #Getting top and bottom features into sorted array\n",
    "    top_positive_coefficients = np.argsort(class_coef)[-top_features:]\n",
    "    top_negative_coefficients = np.argsort(class_coef)[:top_features]\n",
    "\n",
    "    #Connecting the arrays\n",
    "    top_coefficients = np.hstack([top_negative_coefficients, top_positive_coefficients])\n",
    "    \n",
    "    #\n",
    "    colors = [\"Female\" if c < 0 else \"Male\" for c in class_coef[top_coefficients]]\n",
    "    \n",
    "\n",
    "    fig, ax = plt.subplots(figsize=(20,4))\n",
    "    fg = sns.barplot(y=class_coef[top_coefficients], x=feature_names[top_coefficients], hue= colors, dodge=False)\n",
    "    fg.set_title(str(top_features) + \" most impactful features\")\n",
    "    feature_names = np.array(feature_names)\n",
    "    plt.xticks(np.arange(0, 0 + 2 * top_features), feature_names[top_coefficients], rotation=45, ha=\"right\")\n",
    "    plt.show()"
   ]
  },
  {
   "cell_type": "code",
   "execution_count": 495,
   "metadata": {},
   "outputs": [],
   "source": [
    "def find_best_ncomp(scope,clf,  X,y): #Finds the best number of components argument for our LSA\n",
    "    performance = []\n",
    "    test = scope  \n",
    "    cv_scorer = make_scorer(metrics.f1_score, average='macro')\n",
    "    \n",
    "\n",
    "    for n in test: #`n` must be an integer satisfying `0 < n < min(X.shape)`.\n",
    "        svd_test = TruncatedSVD(n_components=n ,algorithm= 'arpack')\n",
    "        lsa_test = svd_test.fit_transform(X)\n",
    "        clf.fit(lsa_test, y)\n",
    "        pred = clf.predict(lsa_test)\n",
    "\n",
    "        cv_scores = cross_val_score(clf, X= lsa_test, y= y, cv = 10, scoring=cv_scorer)\n",
    "        clf_score = cv_scores.mean()\n",
    "\n",
    "        performance.append(clf_score)\n",
    "\n",
    "    fig = plt.figure(figsize=(15, 5))\n",
    "    plt.plot(test, performance, 'ro--')\n",
    "    plt.title('Score by n-components');\n",
    "\n",
    "    return performance"
   ]
  },
  {
   "cell_type": "code",
   "execution_count": 496,
   "metadata": {},
   "outputs": [],
   "source": [
    "def runtest(clf, X_train, y_train): #Tests classifier and prints results in form of cross-validation score and confusion matrix\n",
    "    clf.fit(X_train, y_train)\n",
    "    pred = clf.predict(X_train)\n",
    "\n",
    "    cv_scorer = make_scorer(metrics.f1_score, average='macro')\n",
    "    clf_score = cross_val_score(clf, X= X_train, y= y_train, cv = 10, scoring=cv_scorer).mean()\n",
    "\n",
    "    print(pd.DataFrame(metrics.confusion_matrix(y_pred=pred ,y_true=y_train),  columns=['Female','Male'] ,index=['Female','Male']))\n",
    "\n",
    "    return clf_score"
   ]
  },
  {
   "cell_type": "code",
   "execution_count": 497,
   "metadata": {},
   "outputs": [],
   "source": [
    "def find_best_params(clf, parameters, X_train, y_train): #Takes classifier and parameter grid, returns best parameters according to GridSearchCV\n",
    "\n",
    "    cv_scorer = make_scorer(metrics.f1_score, average='macro')\n",
    "    grid = GridSearchCV(clf, parameters, scoring = cv_scorer)    \n",
    "    grid.fit(X_train, y_train)\n",
    "    \n",
    "    print(grid.best_params_)\n",
    "    return grid.best_params_"
   ]
  },
  {
   "attachments": {},
   "cell_type": "markdown",
   "metadata": {},
   "source": [
    "We use tf-idf rather than word counts because counts will add alot of noise in our use context.\n",
    "ngram_range wise we use (1,2)| In hebrew there is additional gender-related information in verbs, if used in tandem with, for example: \"הייתי צריכה\\צריך\" would be completely lost information. (n>2)-grams wouldn't add much.\n",
    "We have 2 categories; assuming there is equal chance to be female or male (1/2). With this and in infference from the above, our max_df value could safely go to 0.5 without losing much information. \n",
    "Meaningful verbs are likely to reoccur in the story; say, a story has actions described in it, central actions to the story reoccur (taken that a story is an actual story and not a sentence)."
   ]
  },
  {
   "cell_type": "code",
   "execution_count": 498,
   "metadata": {},
   "outputs": [
    {
     "data": {
      "text/plain": [
       "(750, 31940)"
      ]
     },
     "execution_count": 498,
     "metadata": {},
     "output_type": "execute_result"
    },
    {
     "data": {
      "text/plain": [
       "(750, 31940)"
      ]
     },
     "execution_count": 498,
     "metadata": {},
     "output_type": "execute_result"
    }
   ],
   "source": [
    "#Binary count vectorizer for bernoulliNB experiment\n",
    "ber_vect = CountVectorizer(tokenizer=tokenizator, binary=True, max_df=0.5, min_df=2, ngram_range= (1,2))\n",
    "\n",
    "#tf-idf count vectorizer with \"sublinear_tf=True and use_idf=True\" as suggested by TruncatedSVD documentation for later lsa.\n",
    "red_vect = TfidfVectorizer(tokenizer=tokenizator, sublinear_tf=True, use_idf=True, max_df=0.5, min_df=2, ngram_range= (1,2)) \n",
    "\n",
    "X_train_ber = ber_vect.fit_transform(story_list)\n",
    "X_train_red = red_vect.fit_transform(story_list)\n",
    "\n",
    "#Converting 'f' and 'm' to 0 and 1 respectively\n",
    "gender_encoder = preprocessing.LabelEncoder()\n",
    "y_train_normalized = gender_encoder.fit_transform(gender_chars)\n",
    "\n",
    "#Shapes of resulting sparse matrixes\n",
    "X_train_ber.shape\n",
    "X_train_red.shape"
   ]
  },
  {
   "attachments": {},
   "cell_type": "markdown",
   "metadata": {},
   "source": [
    "In a naive approach, a single appearence of some words could already be a decisive factor in classifying author genders."
   ]
  },
  {
   "attachments": {},
   "cell_type": "markdown",
   "metadata": {},
   "source": [
    "In order to test this claim, I want to try and train a BernoulliNB classifier with binary train data of word appearances "
   ]
  },
  {
   "cell_type": "code",
   "execution_count": 499,
   "metadata": {},
   "outputs": [
    {
     "name": "stdout",
     "output_type": "stream",
     "text": [
      "        Female  Male\n",
      "Female     143    34\n",
      "Male         2   571\n",
      "Cross-val score for BernoulliNB with default args: 0.48490170127040966\n"
     ]
    }
   ],
   "source": [
    "from sklearn.naive_bayes import BernoulliNB\n",
    "\n",
    "clfBNB = BernoulliNB()\n",
    "BNB_score = runtest(clfBNB,X_train_ber, y_train_normalized)\n",
    "print(\"Cross-val score for BernoulliNB with default args: \"+str(BNB_score))"
   ]
  },
  {
   "cell_type": "code",
   "execution_count": 500,
   "metadata": {},
   "outputs": [
    {
     "name": "stdout",
     "output_type": "stream",
     "text": [
      "{'alpha': 0.1, 'fit_prior': False}\n",
      "        Female  Male\n",
      "Female     177     0\n",
      "Male         2   571\n",
      "Cross-val score for BernoulliNB with tuned args: 0.5999037320290981\n"
     ]
    }
   ],
   "source": [
    "#Finding best params\n",
    "paramsforBNB =  {'alpha' : np.logspace(-6, 6, 13), 'fit_prior' : [True, False]}\n",
    "BNB_bestparams = find_best_params(clfBNB, paramsforBNB, X_train_ber, y_train_normalized)\n",
    "\n",
    "#Extracting the params and retraining the classifier using them\n",
    "alpha_arg= BNB_bestparams['alpha']\n",
    "fitprior_arg= BNB_bestparams['fit_prior']\n",
    "\n",
    "clfBNB = BernoulliNB(alpha= alpha_arg, fit_prior=fitprior_arg)\n",
    "\n",
    "#Testing the results of the new classifier and printing to screen\n",
    "BNB_score = runtest(clfBNB,X_train_ber, y_train_normalized)\n",
    "print(\"Cross-val score for BernoulliNB with tuned args: \"+str(BNB_score))"
   ]
  },
  {
   "attachments": {},
   "cell_type": "markdown",
   "metadata": {},
   "source": [
    "We can see that indeed with minimal parameter tuning we get very high accuracy in predictions on the train set. The cross validation score on the other hand is very low and points to overfitting"
   ]
  },
  {
   "attachments": {},
   "cell_type": "markdown",
   "metadata": {},
   "source": [
    "Were going to train a Ridge classifier in order to find and visualize some heavily impactful features."
   ]
  },
  {
   "cell_type": "code",
   "execution_count": 501,
   "metadata": {},
   "outputs": [
    {
     "data": {
      "text/html": [
       "<style>#sk-container-id-67 {color: black;background-color: white;}#sk-container-id-67 pre{padding: 0;}#sk-container-id-67 div.sk-toggleable {background-color: white;}#sk-container-id-67 label.sk-toggleable__label {cursor: pointer;display: block;width: 100%;margin-bottom: 0;padding: 0.3em;box-sizing: border-box;text-align: center;}#sk-container-id-67 label.sk-toggleable__label-arrow:before {content: \"▸\";float: left;margin-right: 0.25em;color: #696969;}#sk-container-id-67 label.sk-toggleable__label-arrow:hover:before {color: black;}#sk-container-id-67 div.sk-estimator:hover label.sk-toggleable__label-arrow:before {color: black;}#sk-container-id-67 div.sk-toggleable__content {max-height: 0;max-width: 0;overflow: hidden;text-align: left;background-color: #f0f8ff;}#sk-container-id-67 div.sk-toggleable__content pre {margin: 0.2em;color: black;border-radius: 0.25em;background-color: #f0f8ff;}#sk-container-id-67 input.sk-toggleable__control:checked~div.sk-toggleable__content {max-height: 200px;max-width: 100%;overflow: auto;}#sk-container-id-67 input.sk-toggleable__control:checked~label.sk-toggleable__label-arrow:before {content: \"▾\";}#sk-container-id-67 div.sk-estimator input.sk-toggleable__control:checked~label.sk-toggleable__label {background-color: #d4ebff;}#sk-container-id-67 div.sk-label input.sk-toggleable__control:checked~label.sk-toggleable__label {background-color: #d4ebff;}#sk-container-id-67 input.sk-hidden--visually {border: 0;clip: rect(1px 1px 1px 1px);clip: rect(1px, 1px, 1px, 1px);height: 1px;margin: -1px;overflow: hidden;padding: 0;position: absolute;width: 1px;}#sk-container-id-67 div.sk-estimator {font-family: monospace;background-color: #f0f8ff;border: 1px dotted black;border-radius: 0.25em;box-sizing: border-box;margin-bottom: 0.5em;}#sk-container-id-67 div.sk-estimator:hover {background-color: #d4ebff;}#sk-container-id-67 div.sk-parallel-item::after {content: \"\";width: 100%;border-bottom: 1px solid gray;flex-grow: 1;}#sk-container-id-67 div.sk-label:hover label.sk-toggleable__label {background-color: #d4ebff;}#sk-container-id-67 div.sk-serial::before {content: \"\";position: absolute;border-left: 1px solid gray;box-sizing: border-box;top: 0;bottom: 0;left: 50%;z-index: 0;}#sk-container-id-67 div.sk-serial {display: flex;flex-direction: column;align-items: center;background-color: white;padding-right: 0.2em;padding-left: 0.2em;position: relative;}#sk-container-id-67 div.sk-item {position: relative;z-index: 1;}#sk-container-id-67 div.sk-parallel {display: flex;align-items: stretch;justify-content: center;background-color: white;position: relative;}#sk-container-id-67 div.sk-item::before, #sk-container-id-67 div.sk-parallel-item::before {content: \"\";position: absolute;border-left: 1px solid gray;box-sizing: border-box;top: 0;bottom: 0;left: 50%;z-index: -1;}#sk-container-id-67 div.sk-parallel-item {display: flex;flex-direction: column;z-index: 1;position: relative;background-color: white;}#sk-container-id-67 div.sk-parallel-item:first-child::after {align-self: flex-end;width: 50%;}#sk-container-id-67 div.sk-parallel-item:last-child::after {align-self: flex-start;width: 50%;}#sk-container-id-67 div.sk-parallel-item:only-child::after {width: 0;}#sk-container-id-67 div.sk-dashed-wrapped {border: 1px dashed gray;margin: 0 0.4em 0.5em 0.4em;box-sizing: border-box;padding-bottom: 0.4em;background-color: white;}#sk-container-id-67 div.sk-label label {font-family: monospace;font-weight: bold;display: inline-block;line-height: 1.2em;}#sk-container-id-67 div.sk-label-container {text-align: center;}#sk-container-id-67 div.sk-container {/* jupyter's `normalize.less` sets `[hidden] { display: none; }` but bootstrap.min.css set `[hidden] { display: none !important; }` so we also need the `!important` here to be able to override the default hidden behavior on the sphinx rendered scikit-learn.org. See: https://github.com/scikit-learn/scikit-learn/issues/21755 */display: inline-block !important;position: relative;}#sk-container-id-67 div.sk-text-repr-fallback {display: none;}</style><div id=\"sk-container-id-67\" class=\"sk-top-container\"><div class=\"sk-text-repr-fallback\"><pre>RidgeClassifier(class_weight=&#x27;balanced&#x27;)</pre><b>In a Jupyter environment, please rerun this cell to show the HTML representation or trust the notebook. <br />On GitHub, the HTML representation is unable to render, please try loading this page with nbviewer.org.</b></div><div class=\"sk-container\" hidden><div class=\"sk-item\"><div class=\"sk-estimator sk-toggleable\"><input class=\"sk-toggleable__control sk-hidden--visually\" id=\"sk-estimator-id-67\" type=\"checkbox\" checked><label for=\"sk-estimator-id-67\" class=\"sk-toggleable__label sk-toggleable__label-arrow\">RidgeClassifier</label><div class=\"sk-toggleable__content\"><pre>RidgeClassifier(class_weight=&#x27;balanced&#x27;)</pre></div></div></div></div></div>"
      ],
      "text/plain": [
       "RidgeClassifier(class_weight='balanced')"
      ]
     },
     "execution_count": 501,
     "metadata": {},
     "output_type": "execute_result"
    },
    {
     "data": {
      "image/png": "[encoded data removed]",
      "text/plain": [
       "<Figure size 2000x400 with 1 Axes>"
      ]
     },
     "metadata": {},
     "output_type": "display_data"
    },
    {
     "name": "stdout",
     "output_type": "stream",
     "text": [
      "        Female  Male\n",
      "Female     177     0\n",
      "Male         2   571\n",
      "Cross-val score for Ridge with default args: 0.6147465245096526\n"
     ]
    }
   ],
   "source": [
    "clfRidgebase = RidgeClassifier(class_weight='balanced') #Balanced to offset the train set imbalance\n",
    "clfRidgebase.fit(X_train_red, y_train_normalized)\n",
    "pred = clfRidgebase.predict(X_train_red)\n",
    "\n",
    "plot_coefficients(clfRidgebase, red_vect.get_feature_names_out())\n",
    "\n",
    "#Testing with default params\n",
    "clfRidgebase_score = runtest(clfRidgebase,X_train_red, y_train_normalized)\n",
    "print(\"Cross-val score for Ridge with default args: \"+str(clfRidgebase_score))"
   ]
  },
  {
   "attachments": {},
   "cell_type": "markdown",
   "metadata": {},
   "source": [
    "We can see that most of the words are verbs which are the words that offer the most gender-related information in hebew while the other words like 'למה, כלב' which to naked eye offer 0 information. \n",
    "\n",
    "We can also see that proportion of these apparent \"noise\" words isnt balanced, the male side has noticably more which is probably attributed to the heavy gender imbalance in the train set and or due to verbs in the third-person form are same as in male which i feel in a way limits the reliability of male-positive features and skews our preference towards valuing female-positive features more.\n",
    "\n",
    "If we were allowed to add certain stop words like \"היא, הוא , אני\" etc so we could then analyze the next word in context and nullify the impact of males talking about females' actions and the reverse.\n",
    " *For example in case of a bi-gram \"היא אוהבת/צריכה\" (not mandatory to have these exact words, just a verb ending on ת or ה in case the previous was היא)\n"
   ]
  },
  {
   "attachments": {},
   "cell_type": "markdown",
   "metadata": {},
   "source": [
    "-------------------------------------------------------------------------------------------------------------------------------------------------------------------------------------------------------------------------"
   ]
  },
  {
   "attachments": {},
   "cell_type": "markdown",
   "metadata": {},
   "source": [
    "Before going deeper into experimentation with classifiers I want to reduce the dimensionality of our problem. Before running LSA using truncatedSVD we are on ~32k features."
   ]
  },
  {
   "cell_type": "code",
   "execution_count": 502,
   "metadata": {},
   "outputs": [
    {
     "name": "stdout",
     "output_type": "stream",
     "text": [
      "521\n"
     ]
    },
    {
     "data": {
      "image/png": "[encoded data removed]",
      "text/plain": [
       "<Figure size 1500x500 with 1 Axes>"
      ]
     },
     "metadata": {},
     "output_type": "display_data"
    }
   ],
   "source": [
    "ncomp_results = find_best_ncomp(scope = range(1,  min(X_train_red.shape) -1 , 5) ,clf = clfRidgebase ,X=X_train_red , y=y_train_normalized)\n",
    "fin_ncomps = ncomp_results.index(max(ncomp_results))* 5 + 1\n",
    "print(fin_ncomps) # 521"
   ]
  },
  {
   "attachments": {},
   "cell_type": "markdown",
   "metadata": {},
   "source": [
    "After the first run of our finder, I want to tighten the scope and run it again"
   ]
  },
  {
   "cell_type": "code",
   "execution_count": 503,
   "metadata": {},
   "outputs": [
    {
     "name": "stdout",
     "output_type": "stream",
     "text": [
      "518\n"
     ]
    },
    {
     "data": {
      "image/png": "[encoded data removed]",
      "text/plain": [
       "<Figure size 1500x500 with 1 Axes>"
      ]
     },
     "metadata": {},
     "output_type": "display_data"
    }
   ],
   "source": [
    "ncomp_results = find_best_ncomp(scope = range(fin_ncomps-21,  fin_ncomps+19 , 1) ,clf = clfRidgebase ,X=X_train_red , y=y_train_normalized)\n",
    "fin_ncomps = ncomp_results.index(max(ncomp_results)) + fin_ncomps-21 #518\n",
    "print(fin_ncomps)"
   ]
  },
  {
   "cell_type": "code",
   "execution_count": 504,
   "metadata": {},
   "outputs": [
    {
     "name": "stdout",
     "output_type": "stream",
     "text": [
      "Explained variance of the SVD step: 79.0%\n"
     ]
    }
   ],
   "source": [
    "redSVD = TruncatedSVD(n_components=fin_ncomps,algorithm= 'arpack') \n",
    "####   SVD results are not normalized!!!! \n",
    "\n",
    "X_train_postLSA = redSVD.fit_transform(X_train_red)\n",
    "explained_variance = redSVD.explained_variance_ratio_.sum()\n",
    "print(f\"Explained variance of the SVD step: {explained_variance * 100:.1f}%\")\n"
   ]
  },
  {
   "attachments": {},
   "cell_type": "markdown",
   "metadata": {},
   "source": [
    "We can see we managed to lower our feature count to just 518 while at the same time improving our f1-macro prediction score to 0.73+"
   ]
  },
  {
   "attachments": {},
   "cell_type": "markdown",
   "metadata": {},
   "source": [
    "-------------------------------------------------------------------------------------------------------------------------------------------------------------------------------------------------------------------------------"
   ]
  },
  {
   "attachments": {},
   "cell_type": "markdown",
   "metadata": {},
   "source": [
    "Next I want to experiment with solving our problem using LogisticRegression()"
   ]
  },
  {
   "cell_type": "code",
   "execution_count": null,
   "metadata": {},
   "outputs": [],
   "source": [
    "#Testing with default params\n",
    "clfLogreg = LogisticRegression()\n",
    "clfLR_score = runtest(clfLogreg,X_train_postLSA, y_train_normalized)\n",
    "print(\"Cross-val score for Logistic Regression with default args: \"+str(clfLR_score))"
   ]
  },
  {
   "cell_type": "code",
   "execution_count": null,
   "metadata": {},
   "outputs": [],
   "source": [
    "#Finding best params\n",
    "paramsforLogreg = {'C' : np.logspace(-6, 6, 13), 'solver' : ['liblinear'], 'class_weight' : ['balanced', None], 'max_iter' : [1,10,100,1000,2000,5000,10000]}\n",
    "Logreg_bestparams = find_best_params(clfLogreg, paramsforLogreg, X_train_postLSA, y_train_normalized)\n",
    "\n",
    "#Extracting the params and retraining the classifier using them\n",
    "C_arg= Logreg_bestparams['C']\n",
    "class_weight_arg= Logreg_bestparams['class_weight']\n",
    "maxiter_arg= Logreg_bestparams['max_iter']\n",
    "clfLogreg = LogisticRegression(C= C_arg, solver='liblinear', class_weight=class_weight_arg, max_iter=maxiter_arg)\n",
    "\n",
    "#Testing the results of the new classifier and printing to screen\n",
    "clfLR_score = runtest(clfLogreg,X_train_postLSA, y_train_normalized)\n",
    "print(\"Cross-val score for Logistic Regression with tuned args: \"+str(clfLR_score)) "
   ]
  },
  {
   "attachments": {},
   "cell_type": "markdown",
   "metadata": {},
   "source": [
    "-------------------------------------------------------------------------------------------------------------------------------------------------------------------------------------------------------------------------------"
   ]
  },
  {
   "attachments": {},
   "cell_type": "markdown",
   "metadata": {},
   "source": [
    "Next up we're going to train a SGDClassifier()"
   ]
  },
  {
   "attachments": {},
   "cell_type": "markdown",
   "metadata": {},
   "source": [
    "According to sklearn documentation 1.5.7 \"if your attributes have an intrinsic scale (e.g. word frequencies or indicator features) scaling is not needed.\" which fits our use case."
   ]
  },
  {
   "cell_type": "code",
   "execution_count": 505,
   "metadata": {},
   "outputs": [
    {
     "name": "stdout",
     "output_type": "stream",
     "text": [
      "        Female  Male\n",
      "Female     175     2\n",
      "Male         0   573\n",
      "Cross-val score for SGDClassifier with default args: 0.6836287432674648\n"
     ]
    }
   ],
   "source": [
    "clfSGD = SGDClassifier()\n",
    "SGD_score = runtest(clfSGD,X_train_postLSA, y_train_normalized)\n",
    "print(\"Cross-val score for SGDClassifier with default args: \"+str(SGD_score))"
   ]
  },
  {
   "cell_type": "code",
   "execution_count": 506,
   "metadata": {},
   "outputs": [
    {
     "name": "stdout",
     "output_type": "stream",
     "text": [
      "{'loss': 'log_loss', 'max_iter': 10, 'penalty': 'l1'}\n",
      "        Female  Male\n",
      "Female     175     2\n",
      "Male         0   573\n",
      "Cross-val score for SGDClassifier with tuned args: 0.6890933229090044\n"
     ]
    }
   ],
   "source": [
    "#Finding best params\n",
    "paramsforSGD =  {'loss' : ['hinge', 'log_loss', 'modified_huber', 'squared_hinge', 'perceptron', 'squared_error', 'huber', 'epsilon_insensitive', 'squared_epsilon_insensitive'],\n",
    "                  'max_iter' : [1,10,100,1000,2000,5000,10000],\n",
    "                    'penalty' : ['l1', 'l2', 'elasticnet', None]}\n",
    "SGD_bestparams = find_best_params(clfSGD, paramsforSGD, X_train_postLSA, y_train_normalized)\n",
    "\n",
    "#Extracting the params and retraining the classifier using them\n",
    "loss_arg= SGD_bestparams['loss']\n",
    "maxiter_arg = SGD_bestparams['max_iter']\n",
    "penalty_arg = SGD_bestparams['penalty']\n",
    "\n",
    "\n",
    "clfSGD = SGDClassifier(loss= loss_arg, max_iter=maxiter_arg, penalty=penalty_arg)\n",
    "\n",
    "#Testing the results of the new classifier and printing to screen\n",
    "SGD_score = runtest(clfSGD,X_train_postLSA, y_train_normalized)\n",
    "print(\"Cross-val score for SGDClassifier with tuned args: \"+str(SGD_score)) "
   ]
  },
  {
   "attachments": {},
   "cell_type": "markdown",
   "metadata": {},
   "source": [
    "Ridge classifier experiments"
   ]
  },
  {
   "cell_type": "code",
   "execution_count": 507,
   "metadata": {},
   "outputs": [
    {
     "name": "stdout",
     "output_type": "stream",
     "text": [
      "        Female  Male\n",
      "Female     142    35\n",
      "Male         0   573\n",
      "Cross-val score for Ridge with default args: 0.5873415582181496\n"
     ]
    }
   ],
   "source": [
    "#Testing with default params\n",
    "clfRC = RidgeClassifier()\n",
    "clfRC_score = runtest(clfRC,X_train_postLSA, y_train_normalized)\n",
    "print(\"Cross-val score for Ridge with default args: \"+str(clfRC_score))"
   ]
  },
  {
   "cell_type": "code",
   "execution_count": 508,
   "metadata": {},
   "outputs": [
    {
     "name": "stdout",
     "output_type": "stream",
     "text": [
      "{'alpha': 1.0, 'class_weight': 'balanced', 'solver': 'sparse_cg'}\n",
      "        Female  Male\n",
      "Female     177     0\n",
      "Male         7   566\n",
      "Cross-val score for Ridge with tuned args: 0.7309894209063754\n"
     ]
    }
   ],
   "source": [
    "#Finding best params\n",
    "paramsforRidge = {'alpha' : np.logspace(-6, 6, 13), 'solver' : ['sparse_cg'], 'class_weight' : ['balanced', None]}\n",
    "Ridge_bestparams = find_best_params(clfRC, paramsforRidge, X_train_postLSA, y_train_normalized)\n",
    "\n",
    "#Extracting the params and retraining the classifier using them\n",
    "alpha_arg= Ridge_bestparams['alpha']\n",
    "class_weight_arg= Ridge_bestparams['class_weight']\n",
    "clfRC = RidgeClassifier(alpha= alpha_arg, solver='sparse_cg', class_weight=class_weight_arg)\n",
    "\n",
    "#Testing the results of the new classifier and printing to screen\n",
    "clfRC_score = runtest(clfRC,X_train_postLSA, y_train_normalized)\n",
    "print(\"Cross-val score for Ridge with tuned args: \"+str(clfRC_score)) "
   ]
  },
  {
   "attachments": {},
   "cell_type": "markdown",
   "metadata": {},
   "source": [
    "-------------------------------------------------------------------------------------------------------------------------------------------------------------------------------------------------------------------------------"
   ]
  },
  {
   "attachments": {},
   "cell_type": "markdown",
   "metadata": {},
   "source": [
    "After trying different algorithms, data handling techniques and more, we have arrived at the desired 0.73+ f1 macro score with our tuned RidgeClassifier (which is actually the same as the default parameter one)"
   ]
  },
  {
   "cell_type": "code",
   "execution_count": 509,
   "metadata": {},
   "outputs": [
    {
     "name": "stdout",
     "output_type": "stream",
     "text": [
      "        Female  Male\n",
      "Female     177     0\n",
      "Male         7   566\n",
      "Cross-val score for Logistic Regression with tuned args: 0.7309894209063754\n"
     ]
    }
   ],
   "source": [
    "finscore = runtest(clfRC,X_train_postLSA, y_train_normalized)\n",
    "print(\"Cross-val score for Logistic Regression with tuned args: \"+str(finscore)) "
   ]
  },
  {
   "attachments": {},
   "cell_type": "markdown",
   "metadata": {},
   "source": [
    "We also found that using SGDClassifier, we managed to trade off some of the generalization ability (~0.03 f1-macro score loss) of the classifier to achieve a tighter fit to our train set and as result we misclassify only what seems like the same 2 females; As opposed to the same 7 males we misclassify with the Ridge Classifier"
   ]
  },
  {
   "cell_type": "code",
   "execution_count": 510,
   "metadata": {},
   "outputs": [
    {
     "name": "stdout",
     "output_type": "stream",
     "text": [
      "        Female  Male\n",
      "Female     177     0\n",
      "Male         2   571\n",
      "Cross-val score for Logistic Regression with tuned args: 0.6895060570907139\n"
     ]
    }
   ],
   "source": [
    "finscore = runtest(clfSGD ,X_train_postLSA, y_train_normalized)\n",
    "print(\"Cross-val score for Logistic Regression with tuned args: \"+str(finscore)) "
   ]
  },
  {
   "attachments": {},
   "cell_type": "markdown",
   "metadata": {},
   "source": [
    "Now that we have finished experimenting with the data and training classifiers, we can move on to predicting future samples."
   ]
  },
  {
   "cell_type": "code",
   "execution_count": 511,
   "metadata": {},
   "outputs": [],
   "source": [
    "#First we vectorize and transform the test data using the same transformers\n",
    "X_test_red = red_vect.transform(story_test_list)\n",
    "X_test_postLSA = redSVD.transform(X_test_red)\n",
    "\n",
    "#Second we use our trained classifier of choice in order to make a prediction\n",
    "y_test_pred =  clfRC.predict(X_test_postLSA)\n",
    "\n",
    "#We then change the targets back to 'f' and 'm' using inverse transformation with the same encoder\n",
    "y_test_genders = gender_encoder.inverse_transform(y_test_pred)\n",
    "\n",
    "#And finally we assemble an output dataframe in the format of the train set containing all the test samples and their respective predictions\n",
    "df_result = df_test.drop(columns='test_example_id').copy()\n",
    "df_result['gender'] = y_test_genders"
   ]
  },
  {
   "cell_type": "code",
   "execution_count": 512,
   "metadata": {},
   "outputs": [
    {
     "name": "stdout",
     "output_type": "stream",
     "text": [
      "According to our prediction, there are: 293 Males and 30 Females in the test data author pool\n"
     ]
    }
   ],
   "source": [
    "test_result_split = np.unique(y_test_genders, return_counts=True)\n",
    "print(\"According to our prediction, there are: \"+ str(test_result_split[1][1]) +\" Males and \" + str(test_result_split[1][0])+ \" Females in the test data author pool\")"
   ]
  },
  {
   "attachments": {},
   "cell_type": "markdown",
   "metadata": {},
   "source": [
    "As requested the first and last 5 samples alongside their answers"
   ]
  },
  {
   "cell_type": "code",
   "execution_count": 513,
   "metadata": {},
   "outputs": [
    {
     "data": {
      "text/html": [
       "<div>\n",
       "<style scoped>\n",
       "    .dataframe tbody tr th:only-of-type {\n",
       "        vertical-align: middle;\n",
       "    }\n",
       "\n",
       "    .dataframe tbody tr th {\n",
       "        vertical-align: top;\n",
       "    }\n",
       "\n",
       "    .dataframe thead th {\n",
       "        text-align: right;\n",
       "    }\n",
       "</style>\n",
       "<table border=\"1\" class=\"dataframe\">\n",
       "  <thead>\n",
       "    <tr style=\"text-align: right;\">\n",
       "      <th></th>\n",
       "      <th>story</th>\n",
       "      <th>gender</th>\n",
       "    </tr>\n",
       "  </thead>\n",
       "  <tbody>\n",
       "    <tr>\n",
       "      <th>0</th>\n",
       "      <td>כל קיץ אני והמשפחה נוסעים לארצות הברית לוס אנג...</td>\n",
       "      <td>m</td>\n",
       "    </tr>\n",
       "    <tr>\n",
       "      <th>1</th>\n",
       "      <td>הגעתי לשירות המדינה אחרי שנתיים כפעיל בתנועת \"...</td>\n",
       "      <td>m</td>\n",
       "    </tr>\n",
       "    <tr>\n",
       "      <th>2</th>\n",
       "      <td>אחת האהבות הגדולות שלי אלו הכלבים שלי ושל אישת...</td>\n",
       "      <td>m</td>\n",
       "    </tr>\n",
       "    <tr>\n",
       "      <th>3</th>\n",
       "      <td>רגע הגיוס לצבא היה הרגע הכי משמעותי עבורי, אני...</td>\n",
       "      <td>m</td>\n",
       "    </tr>\n",
       "    <tr>\n",
       "      <th>4</th>\n",
       "      <td>אני הגעתי לברזיל ישר מקולומביה וגם אני עשיתי ע...</td>\n",
       "      <td>m</td>\n",
       "    </tr>\n",
       "  </tbody>\n",
       "</table>\n",
       "</div>"
      ],
      "text/plain": [
       "                                               story gender\n",
       "0  כל קיץ אני והמשפחה נוסעים לארצות הברית לוס אנג...      m\n",
       "1  הגעתי לשירות המדינה אחרי שנתיים כפעיל בתנועת \"...      m\n",
       "2  אחת האהבות הגדולות שלי אלו הכלבים שלי ושל אישת...      m\n",
       "3  רגע הגיוס לצבא היה הרגע הכי משמעותי עבורי, אני...      m\n",
       "4  אני הגעתי לברזיל ישר מקולומביה וגם אני עשיתי ע...      m"
      ]
     },
     "execution_count": 513,
     "metadata": {},
     "output_type": "execute_result"
    },
    {
     "data": {
      "text/html": [
       "<div>\n",
       "<style scoped>\n",
       "    .dataframe tbody tr th:only-of-type {\n",
       "        vertical-align: middle;\n",
       "    }\n",
       "\n",
       "    .dataframe tbody tr th {\n",
       "        vertical-align: top;\n",
       "    }\n",
       "\n",
       "    .dataframe thead th {\n",
       "        text-align: right;\n",
       "    }\n",
       "</style>\n",
       "<table border=\"1\" class=\"dataframe\">\n",
       "  <thead>\n",
       "    <tr style=\"text-align: right;\">\n",
       "      <th></th>\n",
       "      <th>story</th>\n",
       "      <th>gender</th>\n",
       "    </tr>\n",
       "  </thead>\n",
       "  <tbody>\n",
       "    <tr>\n",
       "      <th>318</th>\n",
       "      <td>בשנה האחרונה הרגשתי די תקוע בעבודה, השגרה הפכה...</td>\n",
       "      <td>m</td>\n",
       "    </tr>\n",
       "    <tr>\n",
       "      <th>319</th>\n",
       "      <td>אני ואילן חברים טובים מזה 20 שנה תמיד חלמנו לפ...</td>\n",
       "      <td>m</td>\n",
       "    </tr>\n",
       "    <tr>\n",
       "      <th>320</th>\n",
       "      <td>מידי יום שישי אני נוהג לנסוע בתחבורה ציבורית ס...</td>\n",
       "      <td>m</td>\n",
       "    </tr>\n",
       "    <tr>\n",
       "      <th>321</th>\n",
       "      <td>לפני מספר חודשים, בשיא התחלואה של הגל השני, עמ...</td>\n",
       "      <td>m</td>\n",
       "    </tr>\n",
       "    <tr>\n",
       "      <th>322</th>\n",
       "      <td>היום בו דיווחתי על גניבה של האוטו שלי. בוקר אח...</td>\n",
       "      <td>m</td>\n",
       "    </tr>\n",
       "  </tbody>\n",
       "</table>\n",
       "</div>"
      ],
      "text/plain": [
       "                                                 story gender\n",
       "318  בשנה האחרונה הרגשתי די תקוע בעבודה, השגרה הפכה...      m\n",
       "319  אני ואילן חברים טובים מזה 20 שנה תמיד חלמנו לפ...      m\n",
       "320  מידי יום שישי אני נוהג לנסוע בתחבורה ציבורית ס...      m\n",
       "321  לפני מספר חודשים, בשיא התחלואה של הגל השני, עמ...      m\n",
       "322  היום בו דיווחתי על גניבה של האוטו שלי. בוקר אח...      m"
      ]
     },
     "execution_count": 513,
     "metadata": {},
     "output_type": "execute_result"
    }
   ],
   "source": [
    "df_result.head()\n",
    "df_result.tail()"
   ]
  },
  {
   "attachments": {},
   "cell_type": "markdown",
   "metadata": {},
   "source": []
  },
  {
   "attachments": {},
   "cell_type": "markdown",
   "metadata": {},
   "source": [
    "### Save output to csv (optional)\n",
    "After you're done save your output to the 'classification_results.csv' csv file.<br/>\n",
    "We assume that the dataframe with your results contain the following columns:\n",
    "* column 1 (left column): 'test_example_id'  - the same id associated to each of the test stories to be predicted.\n",
    "* column 2 (right column): 'predicted_category' - the predicted gender value for each of the associated story. \n",
    "\n",
    "Assuming your predicted values are in the `df_predicted` dataframe, you should save you're results as following:"
   ]
  },
  {
   "cell_type": "code",
   "execution_count": 514,
   "metadata": {},
   "outputs": [],
   "source": [
    "df_result.to_csv('classification_results.csv',index=False)"
   ]
  }
 ],
 "metadata": {
  "celltoolbar": "Create Assignment",
  "kernelspec": {
   "display_name": "Python 3 (ipykernel)",
   "language": "python",
   "name": "python3"
  },
  "language_info": {
   "codemirror_mode": {
    "name": "ipython",
    "version": 3
   },
   "file_extension": ".py",
   "mimetype": "text/x-python",
   "name": "python",
   "nbconvert_exporter": "python",
   "pygments_lexer": "ipython3",
   "version": "3.11.1"
  }
 },
 "nbformat": 4,
 "nbformat_minor": 4
}
